{
 "cells": [
  {
   "cell_type": "code",
   "execution_count": 41,
   "id": "e2ce79f9-6a43-4d32-94e6-632186a153a7",
   "metadata": {},
   "outputs": [],
   "source": [
    "import numpy as np"
   ]
  },
  {
   "cell_type": "code",
   "execution_count": 42,
   "id": "bc31de2b-34c5-45ac-ac51-c9088fc5f877",
   "metadata": {},
   "outputs": [],
   "source": [
    "# VECTOR OPERATIONS"
   ]
  },
  {
   "cell_type": "code",
   "execution_count": 43,
   "id": "a81a071b-b461-4aa5-bc1b-1d57ebba22ae",
   "metadata": {},
   "outputs": [],
   "source": [
    "u = np.array([2, 4, 5, 6])"
   ]
  },
  {
   "cell_type": "code",
   "execution_count": 44,
   "id": "4c1db764-abdf-49fd-97a0-cf4fc3ba80b7",
   "metadata": {},
   "outputs": [
    {
     "data": {
      "text/plain": [
       "array([ 4,  8, 10, 12])"
      ]
     },
     "execution_count": 44,
     "metadata": {},
     "output_type": "execute_result"
    }
   ],
   "source": [
    "2 * u"
   ]
  },
  {
   "cell_type": "code",
   "execution_count": 45,
   "id": "de54a8f2-3230-44be-82f2-cf66670c2661",
   "metadata": {},
   "outputs": [],
   "source": [
    "v = np.array([1, 0, 0, 2])"
   ]
  },
  {
   "cell_type": "code",
   "execution_count": 46,
   "id": "5763cfd5-aaaa-4e0e-a930-b8947885ac0b",
   "metadata": {},
   "outputs": [
    {
     "data": {
      "text/plain": [
       "array([3, 4, 5, 8])"
      ]
     },
     "execution_count": 46,
     "metadata": {},
     "output_type": "execute_result"
    }
   ],
   "source": [
    "u + v"
   ]
  },
  {
   "cell_type": "code",
   "execution_count": 47,
   "id": "1edd023f-8bcf-4edc-a8da-5bb47263eac8",
   "metadata": {},
   "outputs": [],
   "source": [
    "# Multiplying Vectors with Vectors"
   ]
  },
  {
   "cell_type": "code",
   "execution_count": 48,
   "id": "679c8b8e-1da3-455f-8c92-4c3f5f210c55",
   "metadata": {},
   "outputs": [
    {
     "data": {
      "text/plain": [
       "array([ 2,  0,  0, 12])"
      ]
     },
     "execution_count": 48,
     "metadata": {},
     "output_type": "execute_result"
    }
   ],
   "source": [
    "u * v"
   ]
  },
  {
   "cell_type": "code",
   "execution_count": 49,
   "id": "5c684280-41bc-40de-9713-955e27336374",
   "metadata": {},
   "outputs": [],
   "source": [
    "# MULTIPLICATION"
   ]
  },
  {
   "cell_type": "code",
   "execution_count": 55,
   "id": "bc567fa5-088d-4606-ac0f-a11e2af37699",
   "metadata": {},
   "outputs": [
    {
     "data": {
      "text/plain": [
       "4"
      ]
     },
     "execution_count": 55,
     "metadata": {},
     "output_type": "execute_result"
    }
   ],
   "source": [
    "v.shape[0]"
   ]
  },
  {
   "cell_type": "code",
   "execution_count": 59,
   "id": "6db35c42-1804-4519-ba19-8ae0e9213e37",
   "metadata": {},
   "outputs": [],
   "source": [
    "def vector_vector_multiplication(u, v):\n",
    "    assert u.shape[0] == v.shape[0]\n",
    "\n",
    "    n = u.shape[0]\n",
    "\n",
    "    result = 0.0\n",
    "    \n",
    "    for i in range(n):\n",
    "        result = result + u[i] * v[i]\n",
    "        \n",
    "    return result"
   ]
  },
  {
   "cell_type": "code",
   "execution_count": 60,
   "id": "dff2a043-7db7-4b57-bcbd-e08c33017c0c",
   "metadata": {},
   "outputs": [
    {
     "data": {
      "text/plain": [
       "np.float64(14.0)"
      ]
     },
     "execution_count": 60,
     "metadata": {},
     "output_type": "execute_result"
    }
   ],
   "source": [
    "vector_vector_multiplication(u, v)"
   ]
  },
  {
   "cell_type": "code",
   "execution_count": 61,
   "id": "87364c6a-4dc5-469b-a91b-ed054b5811b4",
   "metadata": {},
   "outputs": [
    {
     "data": {
      "text/plain": [
       "np.int64(14)"
      ]
     },
     "execution_count": 61,
     "metadata": {},
     "output_type": "execute_result"
    }
   ],
   "source": [
    "# DOT Operator\n",
    "u.dot(v) # multiply u with v"
   ]
  },
  {
   "cell_type": "code",
   "execution_count": 68,
   "id": "06ec7784-0a7a-414b-ac66-dfbde85a8ba2",
   "metadata": {},
   "outputs": [],
   "source": [
    "# Matrix - Vector\n",
    "U = np.array([\n",
    "    [2, 4, 5, 6],\n",
    "    [1, 2, 1, 2],\n",
    "    [3, 1, 2, 1],\n",
    "])"
   ]
  },
  {
   "cell_type": "code",
   "execution_count": 69,
   "id": "c73bb90b-b05f-44e7-a930-9f08376f345d",
   "metadata": {},
   "outputs": [
    {
     "data": {
      "text/plain": [
       "array([[2, 4, 5, 6],\n",
       "       [1, 2, 1, 2],\n",
       "       [3, 1, 2, 1]])"
      ]
     },
     "execution_count": 69,
     "metadata": {},
     "output_type": "execute_result"
    }
   ],
   "source": [
    "U"
   ]
  },
  {
   "cell_type": "code",
   "execution_count": 70,
   "id": "7983da18-75c0-484d-b798-314e145b6291",
   "metadata": {},
   "outputs": [
    {
     "data": {
      "text/plain": [
       "(3, 4)"
      ]
     },
     "execution_count": 70,
     "metadata": {},
     "output_type": "execute_result"
    }
   ],
   "source": [
    "U.shape"
   ]
  },
  {
   "cell_type": "code",
   "execution_count": 71,
   "id": "e25a5c5c-ef05-4496-8f60-5ab85f6e0560",
   "metadata": {},
   "outputs": [],
   "source": [
    "def matrix_vector_multiplication(U, v):\n",
    "    assert U.shape[1] == v.shape[0]\n",
    "\n",
    "    num_rows = U.shape[0]\n",
    "\n",
    "    result = np.zeros(num_rows)\n",
    "\n",
    "    for i in range(num_rows):\n",
    "        result[i] = vector_vector_multiplication(U[i], v)\n",
    "\n",
    "    return result"
   ]
  },
  {
   "cell_type": "code",
   "execution_count": 79,
   "id": "2ec885c6-c5c9-454c-bb04-3f6f6a655d05",
   "metadata": {},
   "outputs": [
    {
     "data": {
      "text/plain": [
       "array([14.,  5.,  5.])"
      ]
     },
     "execution_count": 79,
     "metadata": {},
     "output_type": "execute_result"
    }
   ],
   "source": [
    "matrix_vector_multiplication(U, v)"
   ]
  },
  {
   "cell_type": "code",
   "execution_count": 80,
   "id": "a4a50495-70b9-4050-be66-52c9c17ea1f6",
   "metadata": {},
   "outputs": [
    {
     "data": {
      "text/plain": [
       "array([14,  5,  5])"
      ]
     },
     "execution_count": 80,
     "metadata": {},
     "output_type": "execute_result"
    }
   ],
   "source": [
    "# Numpy function for computing the function above\n",
    "U.dot(v)"
   ]
  },
  {
   "cell_type": "code",
   "execution_count": 85,
   "id": "ef00ec62-af27-40f1-9d19-4ea559015190",
   "metadata": {},
   "outputs": [],
   "source": [
    "V = np.array([\n",
    "        [1, 1, 2],\n",
    "        [0, 0.5, 1],\n",
    "        [0, 2, 1],\n",
    "        [2, 1, 0],\n",
    "])"
   ]
  },
  {
   "cell_type": "code",
   "execution_count": 86,
   "id": "a7c60a88-fdbf-4569-b4e0-a973c60fffe3",
   "metadata": {},
   "outputs": [],
   "source": [
    "# MATRIX - MATRIX MULTIPLICATION"
   ]
  },
  {
   "cell_type": "code",
   "execution_count": 87,
   "id": "7cb95b39-4764-464a-8fea-9df721cba999",
   "metadata": {},
   "outputs": [],
   "source": [
    "def matrix_matrix_multiplication(U, V):\n",
    "    assert U.shape[1] == V.shape[0]\n",
    "\n",
    "    num_rows = U.shape[0]\n",
    "    num_cols = V.shape[1]\n",
    "\n",
    "    result = np.zeros((num_rows, num_cols))\n",
    "\n",
    "    for i in range(num_cols):\n",
    "        vi = V[:, i]\n",
    "        Uvi = matrix_vector_multiplication(U, vi)\n",
    "        result[:, i] = Uvi\n",
    "\n",
    "    return result"
   ]
  },
  {
   "cell_type": "code",
   "execution_count": 88,
   "id": "32abf520-f8d8-44cd-8f94-bf16bba7458e",
   "metadata": {},
   "outputs": [
    {
     "data": {
      "text/plain": [
       "array([[14. , 20. , 13. ],\n",
       "       [ 5. ,  6. ,  5. ],\n",
       "       [ 5. ,  8.5,  9. ]])"
      ]
     },
     "execution_count": 88,
     "metadata": {},
     "output_type": "execute_result"
    }
   ],
   "source": [
    "matrix_matrix_multiplication(U, V)"
   ]
  },
  {
   "cell_type": "code",
   "execution_count": 89,
   "id": "07323106-584a-4e21-9480-459ad1a8fbe1",
   "metadata": {},
   "outputs": [
    {
     "data": {
      "text/plain": [
       "array([[14. , 20. , 13. ],\n",
       "       [ 5. ,  6. ,  5. ],\n",
       "       [ 5. ,  8.5,  9. ]])"
      ]
     },
     "execution_count": 89,
     "metadata": {},
     "output_type": "execute_result"
    }
   ],
   "source": [
    "# Compute the above function with numpy dot function\n",
    "U.dot(V)"
   ]
  },
  {
   "cell_type": "code",
   "execution_count": 91,
   "id": "73631395-c031-40fd-b858-b2f525acf8a3",
   "metadata": {},
   "outputs": [],
   "source": [
    "# IDENTITY MATRIX\n",
    "# In numpy we use eye() function\n",
    "\n",
    "I = np.eye(3)"
   ]
  },
  {
   "cell_type": "code",
   "execution_count": 93,
   "id": "729f1560-9eb5-40ca-a495-9b73483af11b",
   "metadata": {},
   "outputs": [
    {
     "data": {
      "text/plain": [
       "array([[1. , 1. , 2. ],\n",
       "       [0. , 0.5, 1. ],\n",
       "       [0. , 2. , 1. ],\n",
       "       [2. , 1. , 0. ]])"
      ]
     },
     "execution_count": 93,
     "metadata": {},
     "output_type": "execute_result"
    }
   ],
   "source": [
    "V"
   ]
  },
  {
   "cell_type": "code",
   "execution_count": 94,
   "id": "b46db2d3-42a0-4a83-bee4-5a688fb9229e",
   "metadata": {},
   "outputs": [
    {
     "data": {
      "text/plain": [
       "array([[1. , 1. , 2. ],\n",
       "       [0. , 0.5, 1. ],\n",
       "       [0. , 2. , 1. ],\n",
       "       [2. , 1. , 0. ]])"
      ]
     },
     "execution_count": 94,
     "metadata": {},
     "output_type": "execute_result"
    }
   ],
   "source": [
    "V.dot(I)"
   ]
  },
  {
   "cell_type": "code",
   "execution_count": 97,
   "id": "ba573bc9-7d62-4735-a43e-e3fc859846a3",
   "metadata": {},
   "outputs": [
    {
     "data": {
      "text/plain": [
       "array([[1. , 1. , 2. ],\n",
       "       [0. , 0.5, 1. ],\n",
       "       [0. , 2. , 1. ]])"
      ]
     },
     "execution_count": 97,
     "metadata": {},
     "output_type": "execute_result"
    }
   ],
   "source": [
    "# MATRIX INVERSE\n",
    "\n",
    "Vs = V[[0, 1, 2]]\n",
    "Vs"
   ]
  },
  {
   "cell_type": "code",
   "execution_count": 99,
   "id": "1a90bbdc-a51a-4ad1-a411-b3476e24fb59",
   "metadata": {},
   "outputs": [
    {
     "data": {
      "text/plain": [
       "array([[ 1.        , -2.        ,  0.        ],\n",
       "       [ 0.        , -0.66666667,  0.66666667],\n",
       "       [ 0.        ,  1.33333333, -0.33333333]])"
      ]
     },
     "execution_count": 99,
     "metadata": {},
     "output_type": "execute_result"
    }
   ],
   "source": [
    "# TO COMPUTE THE INVERSE..\n",
    "Vs_inv = np.linalg.inv(Vs)\n",
    "Vs_inv"
   ]
  },
  {
   "cell_type": "code",
   "execution_count": 100,
   "id": "b8535b56-bd10-4536-96d1-26ef3e8e7789",
   "metadata": {},
   "outputs": [
    {
     "data": {
      "text/plain": [
       "array([[1., 0., 0.],\n",
       "       [0., 1., 0.],\n",
       "       [0., 0., 1.]])"
      ]
     },
     "execution_count": 100,
     "metadata": {},
     "output_type": "execute_result"
    }
   ],
   "source": [
    "Vs_inv.dot(Vs)"
   ]
  }
 ],
 "metadata": {
  "kernelspec": {
   "display_name": "Python 3 (ipykernel)",
   "language": "python",
   "name": "python3"
  },
  "language_info": {
   "codemirror_mode": {
    "name": "ipython",
    "version": 3
   },
   "file_extension": ".py",
   "mimetype": "text/x-python",
   "name": "python",
   "nbconvert_exporter": "python",
   "pygments_lexer": "ipython3",
   "version": "3.11.0"
  }
 },
 "nbformat": 4,
 "nbformat_minor": 5
}
