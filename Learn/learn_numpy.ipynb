{
 "cells": [
  {
   "cell_type": "code",
   "execution_count": 5,
   "id": "bbf2855b-8d21-4ebb-a64d-53f5c3430b0c",
   "metadata": {},
   "outputs": [],
   "source": [
    "# Import libraries Pandas and Numpy\n",
    "import pandas as pd\n",
    "import numpy as np"
   ]
  },
  {
   "cell_type": "code",
   "execution_count": 6,
   "id": "3a887d86-bcb5-4994-bad5-417b345a62f0",
   "metadata": {},
   "outputs": [
    {
     "data": {
      "text/plain": [
       "'2.3.3'"
      ]
     },
     "execution_count": 6,
     "metadata": {},
     "output_type": "execute_result"
    }
   ],
   "source": [
    "# Check pandas version\n",
    "pd.__version__"
   ]
  },
  {
   "cell_type": "code",
   "execution_count": 7,
   "id": "47cafc32-073a-46f3-acd8-d12ae150d4eb",
   "metadata": {},
   "outputs": [],
   "source": [
    "# ONE DIMENSIONAL ARRAYS"
   ]
  },
  {
   "cell_type": "code",
   "execution_count": 8,
   "id": "fe0b947d-1a1d-488b-827f-b51c69029aff",
   "metadata": {},
   "outputs": [
    {
     "data": {
      "text/plain": [
       "array([1., 1., 1., 1., 1., 1., 1., 1., 1., 1., 1., 1., 1., 1., 1., 1., 1.,\n",
       "       1., 1., 1.])"
      ]
     },
     "execution_count": 8,
     "metadata": {},
     "output_type": "execute_result"
    }
   ],
   "source": [
    "# Ones array\n",
    "np.ones(20)"
   ]
  },
  {
   "cell_type": "code",
   "execution_count": 9,
   "id": "5c5d2c7c-1e0b-42ba-88f2-e6a0c2250615",
   "metadata": {},
   "outputs": [
    {
     "data": {
      "text/plain": [
       "array([0., 0., 0., 0., 0., 0., 0., 0., 0., 0., 0., 0., 0., 0., 0., 0., 0.,\n",
       "       0., 0., 0.])"
      ]
     },
     "execution_count": 9,
     "metadata": {},
     "output_type": "execute_result"
    }
   ],
   "source": [
    "# Zeros array\n",
    "np.zeros(20)"
   ]
  },
  {
   "cell_type": "code",
   "execution_count": 10,
   "id": "54bfe8a7-affc-48d2-ba8a-001cdaba2344",
   "metadata": {},
   "outputs": [
    {
     "data": {
      "text/plain": [
       "array([10.99, 10.99, 10.99, 10.99, 10.99, 10.99, 10.99, 10.99, 10.99,\n",
       "       10.99, 10.99, 10.99, 10.99, 10.99, 10.99, 10.99, 10.99, 10.99,\n",
       "       10.99, 10.99])"
      ]
     },
     "execution_count": 10,
     "metadata": {},
     "output_type": "execute_result"
    }
   ],
   "source": [
    "# Full array\n",
    "np.full(20, 10.99)"
   ]
  },
  {
   "cell_type": "code",
   "execution_count": 11,
   "id": "538dc00c-6d18-473d-86ef-680e5704878e",
   "metadata": {},
   "outputs": [],
   "source": [
    "# Python List\n",
    "list = [1, 23, 3, 5, 8]"
   ]
  },
  {
   "cell_type": "code",
   "execution_count": 12,
   "id": "c97b22e4-c3c5-4ca6-861f-c206459402fb",
   "metadata": {},
   "outputs": [
    {
     "data": {
      "text/plain": [
       "array([ 1, 23,  3,  5,  8])"
      ]
     },
     "execution_count": 12,
     "metadata": {},
     "output_type": "execute_result"
    }
   ],
   "source": [
    "# Converting a list to an array\n",
    "np.array(list)"
   ]
  },
  {
   "cell_type": "code",
   "execution_count": 13,
   "id": "71448b53-21d5-4def-88fc-c67bf90a1c09",
   "metadata": {},
   "outputs": [],
   "source": [
    "# Storing\n",
    "a = np.array(list)"
   ]
  },
  {
   "cell_type": "code",
   "execution_count": 14,
   "id": "c408248c-6a64-488d-870f-e57c7dc5ddeb",
   "metadata": {},
   "outputs": [],
   "source": [
    "# Re-assigning variables\n",
    "a[2] = 13"
   ]
  },
  {
   "cell_type": "code",
   "execution_count": 15,
   "id": "048364f4-a078-4888-9008-303f2c4e8fef",
   "metadata": {},
   "outputs": [
    {
     "name": "stdout",
     "output_type": "stream",
     "text": [
      "[ 1 23 13  5  8]\n"
     ]
    }
   ],
   "source": [
    "# caller\n",
    "a\n",
    "print(a)"
   ]
  },
  {
   "cell_type": "code",
   "execution_count": 16,
   "id": "7a511e01-41b0-4174-9076-9e4554ce18a2",
   "metadata": {},
   "outputs": [
    {
     "data": {
      "text/plain": [
       "array([3, 4, 5, 6, 7, 8, 9])"
      ]
     },
     "execution_count": 16,
     "metadata": {},
     "output_type": "execute_result"
    }
   ],
   "source": [
    "# Arange function\n",
    "np.arange(3, 10)"
   ]
  },
  {
   "cell_type": "code",
   "execution_count": 17,
   "id": "d3d82ee7-1e25-4b62-8c2c-d65cde602fab",
   "metadata": {},
   "outputs": [
    {
     "data": {
      "text/plain": [
       "array([0. , 0.1, 0.2, 0.3, 0.4, 0.5, 0.6, 0.7, 0.8, 0.9, 1. ])"
      ]
     },
     "execution_count": 17,
     "metadata": {},
     "output_type": "execute_result"
    }
   ],
   "source": [
    "# Linspase function\n",
    "np.linspace(0, 1, 11)"
   ]
  },
  {
   "cell_type": "code",
   "execution_count": 18,
   "id": "60f5f57a-c8d7-4f1d-afef-4faf16ef96bd",
   "metadata": {},
   "outputs": [],
   "source": [
    "# MULTI-DIMENSIONAL ARRAYS"
   ]
  },
  {
   "cell_type": "code",
   "execution_count": 19,
   "id": "ee97cad3-a8e4-4d83-b2ff-8dd1e9364032",
   "metadata": {},
   "outputs": [
    {
     "data": {
      "text/plain": [
       "array([[0., 0.],\n",
       "       [0., 0.],\n",
       "       [0., 0.],\n",
       "       [0., 0.],\n",
       "       [0., 0.]])"
      ]
     },
     "execution_count": 19,
     "metadata": {},
     "output_type": "execute_result"
    }
   ],
   "source": [
    "# Zeros = attribute, 5 = rows, 2 = columns\n",
    "np.zeros((5, 2))"
   ]
  },
  {
   "cell_type": "code",
   "execution_count": 20,
   "id": "548c1fe7-7b4f-4f21-96d1-87296740e28f",
   "metadata": {},
   "outputs": [],
   "source": [
    "# List of lists\n",
    "listOfLists = [[1, 2, 3], [4, 5, 6], [7, 8, 9]]"
   ]
  },
  {
   "cell_type": "code",
   "execution_count": 21,
   "id": "40e0a8be-e0e3-42fb-ba33-b489f17b9e08",
   "metadata": {},
   "outputs": [
    {
     "data": {
      "text/plain": [
       "array([[1, 2, 3],\n",
       "       [4, 5, 6],\n",
       "       [7, 8, 9]])"
      ]
     },
     "execution_count": 21,
     "metadata": {},
     "output_type": "execute_result"
    }
   ],
   "source": [
    "# Converting list of lists to 2d array\n",
    "np.array(listOfLists)"
   ]
  },
  {
   "cell_type": "code",
   "execution_count": 22,
   "id": "0cdd3a18-9d6c-4c9c-b8ab-3d15505ef850",
   "metadata": {},
   "outputs": [],
   "source": [
    "# Accessing elements within the multi-array\n",
    "n = np.array(listOfLists)"
   ]
  },
  {
   "cell_type": "code",
   "execution_count": 23,
   "id": "30117366-35e5-4166-abcd-a82545012db3",
   "metadata": {},
   "outputs": [],
   "source": [
    "n[2, 2] = 99"
   ]
  },
  {
   "cell_type": "code",
   "execution_count": 24,
   "id": "55ef6f5c-4aa5-4f54-8166-f6d8654e516f",
   "metadata": {},
   "outputs": [
    {
     "data": {
      "text/plain": [
       "array([[ 1,  2,  3],\n",
       "       [ 4,  5,  6],\n",
       "       [ 7,  8, 99]])"
      ]
     },
     "execution_count": 24,
     "metadata": {},
     "output_type": "execute_result"
    }
   ],
   "source": [
    "# caller\n",
    "n"
   ]
  },
  {
   "cell_type": "code",
   "execution_count": 25,
   "id": "65469735-4183-4fcf-8f2c-2bb44a883b94",
   "metadata": {},
   "outputs": [],
   "source": [
    "# Accessing and re-assigning rows only\n",
    "n[0] = [5, 2, 1995]"
   ]
  },
  {
   "cell_type": "code",
   "execution_count": 26,
   "id": "5c4a319b-603c-46a0-9445-585a0519a0b5",
   "metadata": {},
   "outputs": [],
   "source": [
    "# Accessing and re-assigining columns only\n",
    "# : = return all the rows\n",
    "n[:, 2] = [2, 18, 2023]"
   ]
  },
  {
   "cell_type": "code",
   "execution_count": 27,
   "id": "13785eb5-fddd-4f36-bb9e-0224ebd30afd",
   "metadata": {},
   "outputs": [
    {
     "data": {
      "text/plain": [
       "array([[   5,    2,    2],\n",
       "       [   4,    5,   18],\n",
       "       [   7,    8, 2023]])"
      ]
     },
     "execution_count": 27,
     "metadata": {},
     "output_type": "execute_result"
    }
   ],
   "source": [
    "n"
   ]
  },
  {
   "cell_type": "code",
   "execution_count": 28,
   "id": "20dabb86-a1c8-48d4-89a7-7e2d55a61baf",
   "metadata": {},
   "outputs": [
    {
     "data": {
      "text/plain": [
       "array([[43.59949021,  2.59262318],\n",
       "       [54.96624779, 43.53223926],\n",
       "       [42.03678021, 33.0334821 ],\n",
       "       [20.4648634 , 61.92709664],\n",
       "       [29.96546737, 26.68272751]])"
      ]
     },
     "execution_count": 28,
     "metadata": {},
     "output_type": "execute_result"
    }
   ],
   "source": [
    "# Generating the same random numbers inside the array\n",
    "np.random.seed(2)\n",
    "# Random numbers inside the array\n",
    "# 100 = numbers between 1 and 100\n",
    "100 * np.random.rand(5, 2)"
   ]
  },
  {
   "cell_type": "code",
   "execution_count": 29,
   "id": "a031f64b-656f-4b7d-94a3-4c47f2c70384",
   "metadata": {},
   "outputs": [
    {
     "data": {
      "text/plain": [
       "array([[-0.41675785, -0.05626683],\n",
       "       [-2.1361961 ,  1.64027081],\n",
       "       [-1.79343559, -0.84174737],\n",
       "       [ 0.50288142, -1.24528809],\n",
       "       [-1.05795222, -0.90900761]])"
      ]
     },
     "execution_count": 29,
     "metadata": {},
     "output_type": "execute_result"
    }
   ],
   "source": [
    "# Normal Distribution\n",
    "np.random.seed(2)\n",
    "# n = normal distribution\n",
    "np.random.randn(5, 2)"
   ]
  },
  {
   "cell_type": "code",
   "execution_count": 30,
   "id": "ffd68be3-ef24-4606-b13e-9b077c9de708",
   "metadata": {},
   "outputs": [
    {
     "data": {
      "text/plain": [
       "array([[40, 15],\n",
       "       [72, 22],\n",
       "       [43, 82],\n",
       "       [75,  7],\n",
       "       [34, 49]], dtype=int32)"
      ]
     },
     "execution_count": 30,
     "metadata": {},
     "output_type": "execute_result"
    }
   ],
   "source": [
    "# Random Integers\n",
    "np.random.seed(2) # fixed numbers\n",
    "# n = normal distribution\n",
    "np.random.randint(low=0, high=100, size=(5, 2))"
   ]
  },
  {
   "cell_type": "code",
   "execution_count": 31,
   "id": "863beb9a-224b-4baf-b9a1-0cf180a0b3af",
   "metadata": {},
   "outputs": [],
   "source": [
    "# ELEMENT-WISE OPERATIONS"
   ]
  },
  {
   "cell_type": "code",
   "execution_count": 32,
   "id": "412e6a6d-c190-455d-a68f-d50cb9c47bc2",
   "metadata": {},
   "outputs": [
    {
     "data": {
      "text/plain": [
       "array([0, 1, 2, 3, 4])"
      ]
     },
     "execution_count": 32,
     "metadata": {},
     "output_type": "execute_result"
    }
   ],
   "source": [
    "# Regual 1d array\n",
    "a = np.arange(5)\n",
    "a"
   ]
  },
  {
   "cell_type": "code",
   "execution_count": 33,
   "id": "a4d40907-0986-476c-b889-5b5982bae812",
   "metadata": {},
   "outputs": [
    {
     "data": {
      "text/plain": [
       "array([1, 2, 3, 4, 5])"
      ]
     },
     "execution_count": 33,
     "metadata": {},
     "output_type": "execute_result"
    }
   ],
   "source": [
    "# Adding 1 increment to all elements in the array\n",
    "a + 1"
   ]
  },
  {
   "cell_type": "code",
   "execution_count": 34,
   "id": "c75b7ebf-2257-4dac-b340-0dbbdc57c5d9",
   "metadata": {},
   "outputs": [
    {
     "data": {
      "text/plain": [
       "array([0, 2, 4, 6, 8])"
      ]
     },
     "execution_count": 34,
     "metadata": {},
     "output_type": "execute_result"
    }
   ],
   "source": [
    "# Multiplying 1 to all elements in the array\n",
    "a * 2"
   ]
  },
  {
   "cell_type": "code",
   "execution_count": 35,
   "id": "a2daf0ec-d18d-4f8a-acd7-3f12cc5ae87a",
   "metadata": {},
   "outputs": [
    {
     "data": {
      "text/plain": [
       "array([-1,  0,  1,  2,  3])"
      ]
     },
     "execution_count": 35,
     "metadata": {},
     "output_type": "execute_result"
    }
   ],
   "source": [
    "# Subtracting 1 from all elements in the array\n",
    "a - 1"
   ]
  },
  {
   "cell_type": "code",
   "execution_count": 36,
   "id": "760cbf8d-6f70-4a59-8dd4-c0047521f81e",
   "metadata": {},
   "outputs": [
    {
     "data": {
      "text/plain": [
       "array([0., 1., 2., 3., 4.])"
      ]
     },
     "execution_count": 36,
     "metadata": {},
     "output_type": "execute_result"
    }
   ],
   "source": [
    "# Dividing 1 from all elements in the array\n",
    "a/1"
   ]
  },
  {
   "cell_type": "code",
   "execution_count": 37,
   "id": "16df933a-3337-4031-a04f-012c57d391df",
   "metadata": {},
   "outputs": [
    {
     "data": {
      "text/plain": [
       "array([ 1,  4,  9, 16, 25])"
      ]
     },
     "execution_count": 37,
     "metadata": {},
     "output_type": "execute_result"
    }
   ],
   "source": [
    "# We can also chain all operations\n",
    "(1 * 2 + (a-1)) ** 2"
   ]
  },
  {
   "cell_type": "code",
   "execution_count": 38,
   "id": "6ede167c-5d53-400a-b5ae-bdf25ec8c273",
   "metadata": {},
   "outputs": [
    {
     "data": {
      "text/plain": [
       "array([ 1,  5, 11, 19, 29])"
      ]
     },
     "execution_count": 38,
     "metadata": {},
     "output_type": "execute_result"
    }
   ],
   "source": [
    "# Combining arrays(You may add, subtract, multiply or divide)\n",
    "b = (1 * 2 + (a-1)) ** 2\n",
    "a + b"
   ]
  },
  {
   "cell_type": "code",
   "execution_count": 39,
   "id": "b7c6771d-4b8d-451f-b986-97ce303ea240",
   "metadata": {},
   "outputs": [],
   "source": [
    "# COMPARISON OPERATIONS"
   ]
  },
  {
   "cell_type": "code",
   "execution_count": 40,
   "id": "9f0e271e-a1c4-4e54-b6a0-eee5077cd7c8",
   "metadata": {},
   "outputs": [
    {
     "data": {
      "text/plain": [
       "array([ True, False, False, False, False])"
      ]
     },
     "execution_count": 40,
     "metadata": {},
     "output_type": "execute_result"
    }
   ],
   "source": [
    "# If you compare you will get boolean values for results\n",
    "a <= 0"
   ]
  },
  {
   "cell_type": "code",
   "execution_count": 41,
   "id": "d1c6996e-5788-40fa-b49c-9b552cfe1ad1",
   "metadata": {},
   "outputs": [
    {
     "data": {
      "text/plain": [
       "array([ 1,  4,  9, 16, 25])"
      ]
     },
     "execution_count": 41,
     "metadata": {},
     "output_type": "execute_result"
    }
   ],
   "source": [
    "b"
   ]
  },
  {
   "cell_type": "code",
   "execution_count": 42,
   "id": "d54ce96e-7d28-4d6e-bc19-2d3daa92e705",
   "metadata": {},
   "outputs": [
    {
     "data": {
      "text/plain": [
       "array([False, False, False, False, False])"
      ]
     },
     "execution_count": 42,
     "metadata": {},
     "output_type": "execute_result"
    }
   ],
   "source": [
    "# Comparing different arrays\n",
    "c = b - a\n",
    "a > b"
   ]
  },
  {
   "cell_type": "code",
   "execution_count": 43,
   "id": "551cea5f-5a3a-425a-946e-99672d2e0309",
   "metadata": {},
   "outputs": [],
   "source": [
    "c - 3\n",
    "c[4] = 100"
   ]
  },
  {
   "cell_type": "code",
   "execution_count": 44,
   "id": "74ebf9b4-13c3-4e25-94c9-3cc02a1c9b62",
   "metadata": {},
   "outputs": [
    {
     "data": {
      "text/plain": [
       "array([ 1,  4,  9, 16, 25])"
      ]
     },
     "execution_count": 44,
     "metadata": {},
     "output_type": "execute_result"
    }
   ],
   "source": [
    "b"
   ]
  },
  {
   "cell_type": "code",
   "execution_count": 45,
   "id": "5458e10f-80a6-47dd-a99c-d2c994ddd700",
   "metadata": {},
   "outputs": [
    {
     "data": {
      "text/plain": [
       "array([0, 1, 2, 3, 4])"
      ]
     },
     "execution_count": 45,
     "metadata": {},
     "output_type": "execute_result"
    }
   ],
   "source": [
    "a"
   ]
  },
  {
   "cell_type": "code",
   "execution_count": 46,
   "id": "440ee1b5-db4c-4209-94ed-7b7ca925bebc",
   "metadata": {},
   "outputs": [
    {
     "data": {
      "text/plain": [
       "array([0, 1, 2, 3, 4])"
      ]
     },
     "execution_count": 46,
     "metadata": {},
     "output_type": "execute_result"
    }
   ],
   "source": [
    "# See what elements inside row or column is greater or less than the other array\n",
    "a[a < c] # elements inside \"a\" array that are less than elements inside \"b\" array"
   ]
  },
  {
   "cell_type": "code",
   "execution_count": 47,
   "id": "17403050-1eb1-44f0-aeae-c98281ca0e33",
   "metadata": {},
   "outputs": [
    {
     "data": {
      "text/plain": [
       "array([100])"
      ]
     },
     "execution_count": 47,
     "metadata": {},
     "output_type": "execute_result"
    }
   ],
   "source": [
    "c[c > b] # elements inside \"c\" array are greater than elements inside \"b\" array"
   ]
  },
  {
   "cell_type": "code",
   "execution_count": 48,
   "id": "c6ca347b-160f-46ae-8cca-3014034694f8",
   "metadata": {},
   "outputs": [],
   "source": [
    "# SUMMARIZING OPERATIONS"
   ]
  },
  {
   "cell_type": "code",
   "execution_count": 49,
   "id": "89b2ce7a-ef50-4f28-94e4-7f3eabe8567c",
   "metadata": {},
   "outputs": [
    {
     "data": {
      "text/plain": [
       "array([0, 1, 2, 3, 4])"
      ]
     },
     "execution_count": 49,
     "metadata": {},
     "output_type": "execute_result"
    }
   ],
   "source": [
    "a"
   ]
  },
  {
   "cell_type": "code",
   "execution_count": 51,
   "id": "5e3a9088-4179-43bb-96e0-c8f4c07d5985",
   "metadata": {},
   "outputs": [
    {
     "data": {
      "text/plain": [
       "np.int64(10)"
      ]
     },
     "execution_count": 51,
     "metadata": {},
     "output_type": "execute_result"
    }
   ],
   "source": [
    "# Add all elements together\n",
    "a.sum()"
   ]
  },
  {
   "cell_type": "code",
   "execution_count": 53,
   "id": "19e03071-50aa-4e1a-a3ed-194246e534bf",
   "metadata": {},
   "outputs": [
    {
     "data": {
      "text/plain": [
       "np.float64(2.0)"
      ]
     },
     "execution_count": 53,
     "metadata": {},
     "output_type": "execute_result"
    }
   ],
   "source": [
    "# Compute average of the elements\n",
    "a.mean()"
   ]
  },
  {
   "cell_type": "code",
   "execution_count": 54,
   "id": "f7889ff6-bebf-4301-a7b2-17e4138de61c",
   "metadata": {},
   "outputs": [
    {
     "data": {
      "text/plain": [
       "np.float64(1.4142135623730951)"
      ]
     },
     "execution_count": 54,
     "metadata": {},
     "output_type": "execute_result"
    }
   ],
   "source": [
    "# Compute standard deviations\n",
    "a.std()"
   ]
  },
  {
   "cell_type": "code",
   "execution_count": 56,
   "id": "e347f678-8699-4693-924e-f433d9aef95b",
   "metadata": {},
   "outputs": [
    {
     "data": {
      "text/plain": [
       "np.int64(1)"
      ]
     },
     "execution_count": 56,
     "metadata": {},
     "output_type": "execute_result"
    }
   ],
   "source": [
    "c.min()"
   ]
  },
  {
   "cell_type": "code",
   "execution_count": 57,
   "id": "1cc3f254-f3c9-4906-8d3e-c9b59663b81e",
   "metadata": {},
   "outputs": [
    {
     "data": {
      "text/plain": [
       "np.int64(2)"
      ]
     },
     "execution_count": 57,
     "metadata": {},
     "output_type": "execute_result"
    }
   ],
   "source": [
    "# These functions apply to multi-dimensional arrays too\n",
    "# Checking minimum\n",
    "n.min()"
   ]
  },
  {
   "cell_type": "code",
   "execution_count": 58,
   "id": "eeb1a900-e591-4751-a704-be385b1dae7e",
   "metadata": {},
   "outputs": [
    {
     "data": {
      "text/plain": [
       "np.int64(2074)"
      ]
     },
     "execution_count": 58,
     "metadata": {},
     "output_type": "execute_result"
    }
   ],
   "source": [
    "# Adding all elements to get total\n",
    "n.sum()"
   ]
  },
  {
   "cell_type": "code",
   "execution_count": 59,
   "id": "5d6c2f79-bb1d-4311-8850-93dfe9fa7d55",
   "metadata": {},
   "outputs": [
    {
     "data": {
      "text/plain": [
       "np.float64(230.44444444444446)"
      ]
     },
     "execution_count": 59,
     "metadata": {},
     "output_type": "execute_result"
    }
   ],
   "source": [
    "# Computing the average for the elements\n",
    "n.mean()"
   ]
  }
 ],
 "metadata": {
  "kernelspec": {
   "display_name": "Python 3 (ipykernel)",
   "language": "python",
   "name": "python3"
  },
  "language_info": {
   "codemirror_mode": {
    "name": "ipython",
    "version": 3
   },
   "file_extension": ".py",
   "mimetype": "text/x-python",
   "name": "python",
   "nbconvert_exporter": "python",
   "pygments_lexer": "ipython3",
   "version": "3.11.0"
  }
 },
 "nbformat": 4,
 "nbformat_minor": 5
}
